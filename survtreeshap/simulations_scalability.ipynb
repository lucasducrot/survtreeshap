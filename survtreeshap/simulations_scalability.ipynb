{
 "cells": [
  {
   "cell_type": "code",
   "execution_count": 2,
   "id": "70cd9c35-be2e-4786-85ed-1e7515cb91f7",
   "metadata": {},
   "outputs": [
    {
     "name": "stderr",
     "output_type": "stream",
     "text": [
      "/home/ducrot/miniconda3/envs/env_survtreeshap/lib/python3.12/site-packages/tqdm/auto.py:21: TqdmWarning: IProgress not found. Please update jupyter and ipywidgets. See https://ipywidgets.readthedocs.io/en/stable/user_install.html\n",
      "  from .autonotebook import tqdm as notebook_tqdm\n"
     ]
    }
   ],
   "source": [
    "import time\n",
    "import survtreeshap as fstp\n",
    "import matplotlib.pyplot as plt\n",
    "from sksurv.datasets import load_whas500\n",
    "from sksurv.ensemble import RandomSurvivalForest\n",
    "from sklearn.model_selection import train_test_split\n",
    "import numpy as np\n",
    "from tqdm import tqdm\n",
    "from survshap import SurvivalModelExplainer, PredictSurvSHAP\n",
    "import utils\n",
    "\n",
    "from sksurv.util import Surv\n",
    "import numpy as np\n",
    "import pandas as pd\n",
    "from sklearn.datasets import make_classification\n",
    "from sksurv.metrics import integrated_brier_score\n",
    "from sksurv.metrics import concordance_index_censored"
   ]
  },
  {
   "cell_type": "code",
   "execution_count": 3,
   "id": "d65beec5-7d69-47be-bec8-6bb457ef7030",
   "metadata": {},
   "outputs": [],
   "source": [
    "# Génération des datasets\n",
    "dfs = []\n",
    "betas = []\n",
    "\n",
    "for p in range(1, 15):\n",
    "    df, beta = utils.simulate_cox_data(n_samples=500, n_features=p, random_state=42 + p)\n",
    "    dfs.append(df)\n",
    "    betas.append(beta)"
   ]
  },
  {
   "cell_type": "code",
   "execution_count": 4,
   "id": "f70c091f-c36e-4f9f-ba2e-0582e9de10a7",
   "metadata": {},
   "outputs": [
    {
     "name": "stderr",
     "output_type": "stream",
     "text": [
      "100%|████████████████████████████████████████████████████████████████████████████████| 400/400 [00:00<00:00, 547.65it/s]\n",
      "100%|████████████████████████████████████████████████████████████████████████████████| 400/400 [00:00<00:00, 648.72it/s]\n",
      "100%|████████████████████████████████████████████████████████████████████████████████| 400/400 [00:00<00:00, 635.95it/s]\n",
      "100%|████████████████████████████████████████████████████████████████████████████████| 400/400 [00:00<00:00, 638.96it/s]\n",
      "100%|████████████████████████████████████████████████████████████████████████████████| 400/400 [00:00<00:00, 616.07it/s]\n",
      "100%|████████████████████████████████████████████████████████████████████████████████| 400/400 [00:00<00:00, 624.25it/s]\n",
      "100%|████████████████████████████████████████████████████████████████████████████████| 400/400 [00:00<00:00, 604.33it/s]\n",
      "100%|████████████████████████████████████████████████████████████████████████████████| 400/400 [00:00<00:00, 608.38it/s]\n",
      "100%|████████████████████████████████████████████████████████████████████████████████| 400/400 [00:00<00:00, 599.28it/s]\n",
      "100%|████████████████████████████████████████████████████████████████████████████████| 400/400 [00:00<00:00, 607.15it/s]\n",
      "100%|████████████████████████████████████████████████████████████████████████████████| 400/400 [00:00<00:00, 601.78it/s]\n",
      "100%|████████████████████████████████████████████████████████████████████████████████| 400/400 [00:00<00:00, 583.19it/s]\n",
      "100%|████████████████████████████████████████████████████████████████████████████████| 400/400 [00:00<00:00, 588.77it/s]\n",
      "100%|████████████████████████████████████████████████████████████████████████████████| 400/400 [00:00<00:00, 589.00it/s]\n"
     ]
    },
    {
     "ename": "IndexError",
     "evalue": "list index out of range",
     "output_type": "error",
     "traceback": [
      "\u001b[31m---------------------------------------------------------------------------\u001b[39m",
      "\u001b[31mIndexError\u001b[39m                                Traceback (most recent call last)",
      "\u001b[36mCell\u001b[39m\u001b[36m \u001b[39m\u001b[32mIn[4]\u001b[39m\u001b[32m, line 5\u001b[39m\n\u001b[32m      3\u001b[39m nb_var=[]\n\u001b[32m      4\u001b[39m \u001b[38;5;28;01mfor\u001b[39;00m i \u001b[38;5;129;01min\u001b[39;00m \u001b[38;5;28mrange\u001b[39m(\u001b[32m0\u001b[39m, \u001b[32m15\u001b[39m):\n\u001b[32m----> \u001b[39m\u001b[32m5\u001b[39m     df=\u001b[43mdfs\u001b[49m\u001b[43m[\u001b[49m\u001b[43mi\u001b[49m\u001b[43m]\u001b[49m\n\u001b[32m      6\u001b[39m     X = df.drop(columns=[\u001b[33m'\u001b[39m\u001b[33mtime\u001b[39m\u001b[33m'\u001b[39m, \u001b[33m'\u001b[39m\u001b[33mevent\u001b[39m\u001b[33m'\u001b[39m]).values\n\u001b[32m      7\u001b[39m     X = pd.DataFrame(X, columns=[\u001b[33mf\u001b[39m\u001b[33m\"\u001b[39m\u001b[33mcov_\u001b[39m\u001b[38;5;132;01m{\u001b[39;00mi\u001b[38;5;132;01m}\u001b[39;00m\u001b[33m\"\u001b[39m \u001b[38;5;28;01mfor\u001b[39;00m i \u001b[38;5;129;01min\u001b[39;00m \u001b[38;5;28mrange\u001b[39m(X.shape[\u001b[32m1\u001b[39m])])\n",
      "\u001b[31mIndexError\u001b[39m: list index out of range"
     ]
    }
   ],
   "source": [
    "\n",
    "y_kernel=[]\n",
    "y_tree=[]\n",
    "nb_var=[]\n",
    "for i in range(1, 15):\n",
    "    df=dfs[i]\n",
    "    X = df.drop(columns=['time', 'event']).values\n",
    "    X = pd.DataFrame(X, columns=[f\"cov_{i}\" for i in range(X.shape[1])])\n",
    "    y = np.array(list(zip(df['event'].astype(bool), df['time'])),dtype=[('event', '?'), ('time', 'f8')])\n",
    "    X = X.astype(float)\n",
    "\n",
    "    X_train, X_test, y_train, y_test = train_test_split(X, y, test_size=0.2, random_state=42)\n",
    "    rsf = RandomSurvivalForest(n_estimators=100, random_state=42, max_depth=10, max_leaf_nodes=20).fit(X_train, y_train)\n",
    "\n",
    "    # time KerneleSHAP\n",
    "\n",
    "    explainer = SurvivalModelExplainer(model = rsf, data = X_train, y = y_train)\n",
    "    observation_A = X_test.iloc[[0]]\n",
    "    survshap_A = PredictSurvSHAP()\n",
    "\n",
    "    start=time.time()\n",
    "    survshap_A.fit(explainer = explainer, new_observation = observation_A) \n",
    "    y_kernel.append(time.time() - start)\n",
    "\n",
    "    # time SurvTreeSHAP\n",
    "    STS=fstp.SurvTreeSHAPexplainer(rsf, X_test)\n",
    "    start=time.time()\n",
    "    _=STS.computesurvshap(0)\n",
    "    y_tree.append(time.time()- start)\n",
    "        \n",
    "    nb_var.append(i+1)\n",
    "\n"
   ]
  },
  {
   "cell_type": "code",
   "execution_count": 11,
   "id": "c0de487e-87ed-4806-ab72-b77cca84b58a",
   "metadata": {},
   "outputs": [
    {
     "data": {
      "text/plain": [
       "[]"
      ]
     },
     "execution_count": 11,
     "metadata": {},
     "output_type": "execute_result"
    },
    {
     "data": {
      "image/png": "[encoded data removed]",
      "text/plain": [
       "<Figure size 640x480 with 1 Axes>"
      ]
     },
     "metadata": {},
     "output_type": "display_data"
    }
   ],
   "source": [
    "log_y_kernel=np.log(np.array(y_kernel))\n",
    "#a, b = np.polyfit(nb_var, log_y_kernel, 1)\n",
    "#x_fit = np.linspace(min(nb_var), max(nb_var), 100)\n",
    "#y_fit = np.exp(b) * (np.exp(a)**x_fit)\n",
    "plt.scatter(nb_var, y_kernel, color='blue', label=\"KernelSurvSHAP\")\n",
    "#plt.plot(x_fit, y_fit, color='blue', label=f\"y = {int(np.exp(b)*1000)/1000} *({int(np.exp(a)*1000)/1000}**d)\")\n",
    "\n",
    "log_y_tree=np.log(np.array(y_tree))\n",
    "#a, b = np.polyfit(t, y_tree, 1)\n",
    "#x_fit = np.linspace(min(t), max(t), 100)\n",
    "#y_fit = a * x_fit + b\n",
    "plt.scatter(nb_var, y_tree, color='green', label=\"SurvTreeSHAP\")\n",
    "#plt.plot(x_fit, y_fit, color='green', label=f\"y = {int(a*1000)/1000}d + {int(b*1000)/1000}\")\n",
    "\n",
    "plt.xlabel(\"Number of covariates\")\n",
    "plt.ylabel(\"Computation time (sec)\")\n",
    "plt.legend()\n",
    "plt.grid()\n",
    "plt.plot() "
   ]
  },
  {
   "cell_type": "code",
   "execution_count": null,
   "id": "9e195fd0-9f55-4d3c-84d5-63abb0c76d6e",
   "metadata": {},
   "outputs": [],
   "source": []
  }
 ],
 "metadata": {
  "kernelspec": {
   "display_name": "Python 3 (ipykernel)",
   "language": "python",
   "name": "python3"
  },
  "language_info": {
   "codemirror_mode": {
    "name": "ipython",
    "version": 3
   },
   "file_extension": ".py",
   "mimetype": "text/x-python",
   "name": "python",
   "nbconvert_exporter": "python",
   "pygments_lexer": "ipython3",
   "version": "3.12.9"
  }
 },
 "nbformat": 4,
 "nbformat_minor": 5
}
